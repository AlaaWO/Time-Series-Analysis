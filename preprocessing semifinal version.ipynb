{
  "cells": [
    {
      "cell_type": "markdown",
      "metadata": {
        "id": "E0g-gTY_k8Yl"
      },
      "source": [
        "# first exploring the data"
      ]
    },
    {
      "cell_type": "code",
      "execution_count": 1,
      "metadata": {
        "id": "6ECsplKNlgkp"
      },
      "outputs": [
        {
          "name": "stderr",
          "output_type": "stream",
          "text": [
            "C:\\Users\\alaaw\\AppData\\Local\\Temp\\ipykernel_34364\\102281708.py:3: DeprecationWarning: \n",
            "Pyarrow will become a required dependency of pandas in the next major release of pandas (pandas 3.0),\n",
            "(to allow more performant data types, such as the Arrow string type, and better interoperability with other libraries)\n",
            "but was not found to be installed on your system.\n",
            "If this would cause problems for you,\n",
            "please provide us feedback at https://github.com/pandas-dev/pandas/issues/54466\n",
            "        \n",
            "  import pandas as pd\n"
          ]
        },
        {
          "name": "stdout",
          "output_type": "stream",
          "text": [
            "WARNING:tensorflow:From C:\\Users\\alaaw\\AppData\\Local\\Packages\\PythonSoftwareFoundation.Python.3.11_qbz5n2kfra8p0\\LocalCache\\local-packages\\Python311\\site-packages\\keras\\src\\losses.py:2976: The name tf.losses.sparse_softmax_cross_entropy is deprecated. Please use tf.compat.v1.losses.sparse_softmax_cross_entropy instead.\n",
            "\n"
          ]
        }
      ],
      "source": [
        "# Import packages\n",
        "#import plotly.express as px\n",
        "import pandas as pd\n",
        "#from statsmodels.tsa.stattools import adfuller\n",
        "import numpy as np\n",
        "import sklearn as sk\n",
        "## import pmdarima\n",
        "import tensorflow\n",
        "## import fprophet\n",
        "## from pmdarima.arima import auto_arima\n",
        "## from fbprophet import Prophet\n",
        "## from tensorflow.keras.models import Sequential\n",
        "## from tensorflow.keras.layers import LSTM, Dense\n",
        "from sklearn.impute import KNNImputer\n",
        "import matplotlib.pyplot as plt\n",
        "from sklearn.metrics import mean_squared_error, mean_absolute_percentage_error\n",
        "import seaborn as sns\n",
        "from statsmodels.graphics.tsaplots import plot_acf, plot_pacf\n"
      ]
    },
    {
      "cell_type": "code",
      "execution_count": 85,
      "metadata": {
        "colab": {
          "base_uri": "https://localhost:8080/",
          "height": 382
        },
        "id": "3pTH5JuElmjb",
        "outputId": "6f730091-b43f-4af0-fb23-f1be6d52a4e1"
      },
      "outputs": [
        {
          "data": {
            "text/html": [
              "<div>\n",
              "<style scoped>\n",
              "    .dataframe tbody tr th:only-of-type {\n",
              "        vertical-align: middle;\n",
              "    }\n",
              "\n",
              "    .dataframe tbody tr th {\n",
              "        vertical-align: top;\n",
              "    }\n",
              "\n",
              "    .dataframe thead th {\n",
              "        text-align: right;\n",
              "    }\n",
              "</style>\n",
              "<table border=\"1\" class=\"dataframe\">\n",
              "  <thead>\n",
              "    <tr style=\"text-align: right;\">\n",
              "      <th></th>\n",
              "      <th>Reporting Economy</th>\n",
              "      <th>Product/Sector</th>\n",
              "      <th>2005</th>\n",
              "      <th>2006</th>\n",
              "      <th>2007</th>\n",
              "      <th>2008</th>\n",
              "      <th>2009</th>\n",
              "      <th>2010</th>\n",
              "      <th>2011</th>\n",
              "      <th>2012</th>\n",
              "      <th>2013</th>\n",
              "      <th>2014</th>\n",
              "      <th>2015</th>\n",
              "      <th>2016</th>\n",
              "      <th>2017</th>\n",
              "      <th>2018</th>\n",
              "      <th>2019</th>\n",
              "      <th>2020</th>\n",
              "      <th>2021</th>\n",
              "      <th>2022</th>\n",
              "    </tr>\n",
              "  </thead>\n",
              "  <tbody>\n",
              "    <tr>\n",
              "      <th>0</th>\n",
              "      <td>World</td>\n",
              "      <td>SI3_AGG - TO - Total merchandise</td>\n",
              "      <td>10510291.0</td>\n",
              "      <td>12131279.0</td>\n",
              "      <td>14031816.0</td>\n",
              "      <td>16168718.0</td>\n",
              "      <td>12564776.0</td>\n",
              "      <td>15301659.0</td>\n",
              "      <td>18337603.0</td>\n",
              "      <td>18508981.0</td>\n",
              "      <td>18958769.0</td>\n",
              "      <td>18999593.0</td>\n",
              "      <td>16554643.0</td>\n",
              "      <td>16036335.0</td>\n",
              "      <td>17741325.0</td>\n",
              "      <td>19550037.0</td>\n",
              "      <td>19017108.0</td>\n",
              "      <td>17653275.0</td>\n",
              "      <td>22365766.0</td>\n",
              "      <td>24925766.0</td>\n",
              "    </tr>\n",
              "    <tr>\n",
              "      <th>1</th>\n",
              "      <td>World</td>\n",
              "      <td>SI3_AGG - AG - Agricultural products</td>\n",
              "      <td>847715.0</td>\n",
              "      <td>942450.0</td>\n",
              "      <td>1131691.0</td>\n",
              "      <td>1342823.0</td>\n",
              "      <td>1177136.0</td>\n",
              "      <td>1354429.0</td>\n",
              "      <td>1649389.0</td>\n",
              "      <td>1655099.0</td>\n",
              "      <td>1731531.0</td>\n",
              "      <td>1746687.0</td>\n",
              "      <td>1565686.0</td>\n",
              "      <td>1585693.0</td>\n",
              "      <td>1731381.0</td>\n",
              "      <td>1810271.0</td>\n",
              "      <td>1788200.0</td>\n",
              "      <td>1809475.0</td>\n",
              "      <td>2148665.0</td>\n",
              "      <td>2325521.0</td>\n",
              "    </tr>\n",
              "    <tr>\n",
              "      <th>2</th>\n",
              "      <td>World</td>\n",
              "      <td>SI3_AGG - AGFO - Food</td>\n",
              "      <td>680936.0</td>\n",
              "      <td>753836.0</td>\n",
              "      <td>915653.0</td>\n",
              "      <td>1114698.0</td>\n",
              "      <td>998004.0</td>\n",
              "      <td>1115790.0</td>\n",
              "      <td>1350316.0</td>\n",
              "      <td>1369778.0</td>\n",
              "      <td>1445339.0</td>\n",
              "      <td>1480252.0</td>\n",
              "      <td>1332886.0</td>\n",
              "      <td>1357202.0</td>\n",
              "      <td>1473948.0</td>\n",
              "      <td>1533561.0</td>\n",
              "      <td>1533159.0</td>\n",
              "      <td>1573538.0</td>\n",
              "      <td>1836335.0</td>\n",
              "      <td>2007666.0</td>\n",
              "    </tr>\n",
              "    <tr>\n",
              "      <th>3</th>\n",
              "      <td>World</td>\n",
              "      <td>SI3_AGG - MI - Fuels and mining products</td>\n",
              "      <td>1810185.0</td>\n",
              "      <td>2319402.0</td>\n",
              "      <td>2674500.0</td>\n",
              "      <td>3554158.0</td>\n",
              "      <td>2299789.0</td>\n",
              "      <td>3074398.0</td>\n",
              "      <td>4122493.0</td>\n",
              "      <td>4164125.0</td>\n",
              "      <td>4051300.0</td>\n",
              "      <td>3720251.0</td>\n",
              "      <td>2380017.0</td>\n",
              "      <td>2033684.0</td>\n",
              "      <td>2611396.0</td>\n",
              "      <td>3264056.0</td>\n",
              "      <td>3102597.0</td>\n",
              "      <td>2326889.0</td>\n",
              "      <td>3670710.0</td>\n",
              "      <td>4950975.0</td>\n",
              "    </tr>\n",
              "    <tr>\n",
              "      <th>4</th>\n",
              "      <td>World</td>\n",
              "      <td>SI3_AGG - MIFU - Fuels</td>\n",
              "      <td>1457315.0</td>\n",
              "      <td>1801129.0</td>\n",
              "      <td>2047440.0</td>\n",
              "      <td>2884170.0</td>\n",
              "      <td>1838528.0</td>\n",
              "      <td>2395065.0</td>\n",
              "      <td>3268505.0</td>\n",
              "      <td>3399965.0</td>\n",
              "      <td>3309479.0</td>\n",
              "      <td>3026072.0</td>\n",
              "      <td>1808811.0</td>\n",
              "      <td>1492255.0</td>\n",
              "      <td>1948478.0</td>\n",
              "      <td>2528513.0</td>\n",
              "      <td>2370333.0</td>\n",
              "      <td>1571511.0</td>\n",
              "      <td>2555970.0</td>\n",
              "      <td>3865877.0</td>\n",
              "    </tr>\n",
              "  </tbody>\n",
              "</table>\n",
              "</div>"
            ],
            "text/plain": [
              "  Reporting Economy                            Product/Sector        2005  \\\n",
              "0             World          SI3_AGG - TO - Total merchandise  10510291.0   \n",
              "1             World      SI3_AGG - AG - Agricultural products    847715.0   \n",
              "2             World                     SI3_AGG - AGFO - Food    680936.0   \n",
              "3             World  SI3_AGG - MI - Fuels and mining products   1810185.0   \n",
              "4             World                    SI3_AGG - MIFU - Fuels   1457315.0   \n",
              "\n",
              "         2006        2007        2008        2009        2010        2011  \\\n",
              "0  12131279.0  14031816.0  16168718.0  12564776.0  15301659.0  18337603.0   \n",
              "1    942450.0   1131691.0   1342823.0   1177136.0   1354429.0   1649389.0   \n",
              "2    753836.0    915653.0   1114698.0    998004.0   1115790.0   1350316.0   \n",
              "3   2319402.0   2674500.0   3554158.0   2299789.0   3074398.0   4122493.0   \n",
              "4   1801129.0   2047440.0   2884170.0   1838528.0   2395065.0   3268505.0   \n",
              "\n",
              "         2012        2013        2014        2015        2016        2017  \\\n",
              "0  18508981.0  18958769.0  18999593.0  16554643.0  16036335.0  17741325.0   \n",
              "1   1655099.0   1731531.0   1746687.0   1565686.0   1585693.0   1731381.0   \n",
              "2   1369778.0   1445339.0   1480252.0   1332886.0   1357202.0   1473948.0   \n",
              "3   4164125.0   4051300.0   3720251.0   2380017.0   2033684.0   2611396.0   \n",
              "4   3399965.0   3309479.0   3026072.0   1808811.0   1492255.0   1948478.0   \n",
              "\n",
              "         2018        2019        2020        2021        2022  \n",
              "0  19550037.0  19017108.0  17653275.0  22365766.0  24925766.0  \n",
              "1   1810271.0   1788200.0   1809475.0   2148665.0   2325521.0  \n",
              "2   1533561.0   1533159.0   1573538.0   1836335.0   2007666.0  \n",
              "3   3264056.0   3102597.0   2326889.0   3670710.0   4950975.0  \n",
              "4   2528513.0   2370333.0   1571511.0   2555970.0   3865877.0  "
            ]
          },
          "execution_count": 85,
          "metadata": {},
          "output_type": "execute_result"
        }
      ],
      "source": [
        "# Read in the data\n",
        "df = pd.read_excel(\"Sample Data Set (1).xlsx\")\n",
        "df.head()"
      ]
    },
    {
      "cell_type": "markdown",
      "metadata": {
        "id": "4uU8ksCPlpqV"
      },
      "source": [
        "checking the number of mising values in the data for each each column in our dataset"
      ]
    },
    {
      "cell_type": "code",
      "execution_count": 86,
      "metadata": {
        "colab": {
          "base_uri": "https://localhost:8080/"
        },
        "id": "eKYlIK6IlwVR",
        "outputId": "6ed3eaec-698c-4638-b209-0a70d25d56eb"
      },
      "outputs": [
        {
          "name": "stdout",
          "output_type": "stream",
          "text": [
            "Reporting Economy      0\n",
            "Product/Sector         0\n",
            "2005                 415\n",
            "2006                 409\n",
            "2007                 436\n",
            "2008                 402\n",
            "2009                 377\n",
            "2010                 355\n",
            "2011                 332\n",
            "2012                 292\n",
            "2013                 320\n",
            "2014                 286\n",
            "2015                 273\n",
            "2016                 272\n",
            "2017                 239\n",
            "2018                 221\n",
            "2019                 191\n",
            "2020                 166\n",
            "2021                 171\n",
            "2022                 219\n",
            "dtype: int64\n"
          ]
        }
      ],
      "source": [
        "print(df.isnull().sum())"
      ]
    },
    {
      "cell_type": "markdown",
      "metadata": {
        "id": "dYCjQheZ7xk7"
      },
      "source": [
        "Exploring futher, to find out wither some rows should be deleted or not"
      ]
    },
    {
      "cell_type": "code",
      "execution_count": 95,
      "metadata": {
        "colab": {
          "base_uri": "https://localhost:8080/"
        },
        "id": "xY9WnVGusNDo",
        "outputId": "247c5b11-2d84-4cf6-f6ad-8c92eb907c57"
      },
      "outputs": [
        {
          "name": "stdout",
          "output_type": "stream",
          "text": [
            "   index                 Reporting Economy  \\\n",
            "0   3398                        Uzbekistan   \n",
            "1   1683                          Kiribati   \n",
            "2    872  Democratic Republic of the Congo   \n",
            "3   1016                          Eswatini   \n",
            "4     88                            Angola   \n",
            "5   2858                      Sierra Leone   \n",
            "6    114               Antigua and Barbuda   \n",
            "7   2219                             Nepal   \n",
            "8   3488                             Yemen   \n",
            "9   1206                        The Gambia   \n",
            "\n",
            "                                      Product/Sector  2005  2006  2007  2008  \\\n",
            "0                             SI3_AGG - MIFU - Fuels   NaN   NaN   NaN   NaN   \n",
            "1             SI3_AGG - MAMTTE - Transport equipment   NaN   NaN   NaN   NaN   \n",
            "2                          SI3_AGG - MATE - Textiles   NaN   NaN   NaN   NaN   \n",
            "3  SI3_AGG - MAMTOTEP - Electronic data processin...   2.0   1.0   NaN   NaN   \n",
            "4    SI3_AGG - MAMTOF - Office and telecom equipment   NaN   NaN   NaN   NaN   \n",
            "5                         SI3_AGG - MACH - Chemicals   NaN   NaN   NaN   NaN   \n",
            "6                          SI3_AGG - MACL - Clothing   NaN   NaN   NaN   NaN   \n",
            "7    SI3_AGG - MAMTOF - Office and telecom equipment   NaN   NaN   NaN   NaN   \n",
            "8                          SI3_AGG - MACL - Clothing   NaN   1.0   1.0   1.0   \n",
            "9             SI3_AGG - MAMTAU - Automotive products   NaN   1.0   1.0   NaN   \n",
            "\n",
            "   2009  2010  2011  ...  2014  2015  2016    2017    2018    2019   2020  \\\n",
            "0   NaN   NaN   NaN  ...   NaN   NaN   NaN  1608.0  2667.0  2466.0  785.0   \n",
            "1   1.0   1.0   1.0  ...   NaN   1.0   1.0     1.0     NaN     1.0    NaN   \n",
            "2   NaN   NaN   NaN  ...   NaN   5.0   3.0     2.0     1.0     3.0    4.0   \n",
            "3   NaN   NaN   NaN  ...   NaN   1.0   1.0     1.0     3.0     1.0    NaN   \n",
            "4   NaN   NaN   NaN  ...   NaN   9.0   8.0     7.0     5.0     4.0    2.0   \n",
            "5   NaN   NaN   NaN  ...   NaN   2.0  88.0     3.0     2.0     1.0    1.0   \n",
            "6   NaN   NaN   NaN  ...   NaN   1.0   1.0     1.0     2.0     1.0    1.0   \n",
            "7   NaN   4.0   1.0  ...   NaN   NaN   NaN     5.0     2.0     1.0    NaN   \n",
            "8   2.0   2.0   1.0  ...   1.0   NaN   NaN     NaN     NaN     NaN    NaN   \n",
            "9   1.0   NaN   NaN  ...   2.0   NaN   NaN     NaN     NaN     1.0    NaN   \n",
            "\n",
            "    2021    2022  missing_values  \n",
            "0  904.0  1214.0              10  \n",
            "1    NaN     1.0              10  \n",
            "2    1.0     3.0              10  \n",
            "3    1.0     NaN              10  \n",
            "4    5.0    10.0              10  \n",
            "5    3.0     3.0              10  \n",
            "6    1.0     1.0              10  \n",
            "7    3.0     1.0              10  \n",
            "8    NaN     NaN              10  \n",
            "9    1.0     NaN              10  \n",
            "\n",
            "[10 rows x 22 columns]\n"
          ]
        }
      ],
      "source": [
        "missing_values_per_row = df.isnull().sum(axis=1)\n",
        "rows_with_missing_values = missing_values_per_row[missing_values_per_row > 0]\n",
        "sorted_indices = missing_values_per_row.sort_values(ascending=False).index\n",
        "top_10_indices = sorted_indices[:10]\n",
        "missing_values_df = missing_values_per_row[top_10_indices].reset_index()\n",
        "missing_values_df.columns = ['index', 'missing_values']\n",
        "# Merge the original DataFrame with the missing values count\n",
        "result_df = df.loc[top_10_indices].reset_index().merge(missing_values_df, on='index')\n",
        "\n",
        "print(result_df)"
      ]
    },
    {
      "cell_type": "code",
      "execution_count": 100,
      "metadata": {
        "colab": {
          "base_uri": "https://localhost:8080/"
        },
        "id": "ljiOFyuhy1c1",
        "outputId": "a24622b7-e61f-431f-f735-f732f816f294"
      },
      "outputs": [
        {
          "name": "stdout",
          "output_type": "stream",
          "text": [
            "Number of rows with more than 15 missing values: 510\n",
            "Percentage of rows with more than 15 missing values: 17.57%\n"
          ]
        }
      ],
      "source": [
        "rows_with_over_15_missing_values = missing_values_per_row[missing_values_per_row >= 1]\n",
        "\n",
        "# Count the number of such rows\n",
        "num_rows_with_over_15_missing = rows_with_over_15_missing_values.shape[0]\n",
        "\n",
        "# Step 6: Calculate the percentage of these rows over the overall data\n",
        "total_rows = df.shape[0]\n",
        "percentage = (num_rows_with_over_15_missing / total_rows) * 100\n",
        "\n",
        "# Output the results\n",
        "print(f\"Number of rows with more than 15 missing values: {num_rows_with_over_15_missing}\")\n",
        "print(f\"Percentage of rows with more than 15 missing values: {percentage:.2f}%\")"
      ]
    },
    {
      "cell_type": "code",
      "execution_count": 90,
      "metadata": {},
      "outputs": [],
      "source": [
        "##replacing 0 values with NaN for knn imputer \n",
        "df.replace(0, np.nan, inplace=True)"
      ]
    },
    {
      "cell_type": "code",
      "execution_count": 94,
      "metadata": {},
      "outputs": [],
      "source": [
        "##drop rows with more then 10 NaN\n",
        "MAXIMUM_NULLS = 10\n",
        "df = df.dropna(thresh=len(df.columns) - MAXIMUM_NULLS)"
      ]
    },
    {
      "cell_type": "code",
      "execution_count": 99,
      "metadata": {},
      "outputs": [
        {
          "data": {
            "text/plain": [
              "510"
            ]
          },
          "execution_count": 99,
          "metadata": {},
          "output_type": "execute_result"
        }
      ],
      "source": [
        "# Count the rows where any column contains either 0 or NaN values\n",
        "rows_with_zero_or_nan = (df == 0).any(axis=1) | df.isna().any(axis=1)\n",
        "rows_with_zero_or_nan_count = rows_with_zero_or_nan.sum()\n",
        "\n",
        "# Display the count of rows with any 0 or NaN values\n",
        "rows_with_zero_or_nan_count"
      ]
    },
    {
      "cell_type": "markdown",
      "metadata": {
        "id": "fnllowoh8TOV"
      },
      "source": [
        "it seems like deleting the rows with missing values higer then 15, would mean sacrificing 1.87%. so we will explore some other options before choosing this option"
      ]
    },
    {
      "cell_type": "markdown",
      "metadata": {
        "id": "X1m5f3XI8lZK"
      },
      "source": [
        "Tuvalu seems to have a lot of missing data as well so i'll explore that too"
      ]
    },
    {
      "cell_type": "code",
      "execution_count": 103,
      "metadata": {
        "id": "ZGJfMvfrCcQZ"
      },
      "outputs": [],
      "source": [
        "### Select only numeric columns for imputation\n",
        "numeric_data = df.select_dtypes(include=['number'])\n"
      ]
    },
    {
      "cell_type": "code",
      "execution_count": 104,
      "metadata": {
        "colab": {
          "base_uri": "https://localhost:8080/"
        },
        "id": "Wr8U8CaWhEIm",
        "outputId": "fb4885a8-725f-41f3-e066-5a08e648551a"
      },
      "outputs": [
        {
          "name": "stdout",
          "output_type": "stream",
          "text": [
            "            2005        2006        2007        2008        2009        2010  \\\n",
            "0     10510291.0  12131279.0  14031816.0  16168718.0  12564776.0  15301659.0   \n",
            "1       847715.0    942450.0   1131691.0   1342823.0   1177136.0   1354429.0   \n",
            "2       680936.0    753836.0    915653.0   1114698.0    998004.0   1115790.0   \n",
            "3      1810185.0   2319402.0   2674500.0   3554158.0   2299789.0   3074398.0   \n",
            "4      1457315.0   1801129.0   2047440.0   2884170.0   1838528.0   2395065.0   \n",
            "...          ...         ...         ...         ...         ...         ...   \n",
            "3519         1.0         1.0         7.0         NaN         5.0         NaN   \n",
            "3521         8.0       165.0        84.0        90.0        16.0        17.0   \n",
            "3522         6.0        16.0        28.0        77.0        10.0         8.0   \n",
            "3523        14.0        23.0        67.0        74.0        17.0        18.0   \n",
            "3524         7.0        17.0        18.0        47.0        16.0         7.0   \n",
            "\n",
            "            2011        2012        2013        2014        2015        2016  \\\n",
            "0     18337603.0  18508981.0  18958769.0  18999593.0  16554643.0  16036335.0   \n",
            "1      1649389.0   1655099.0   1731531.0   1746687.0   1565686.0   1585693.0   \n",
            "2      1350316.0   1369778.0   1445339.0   1480252.0   1332886.0   1357202.0   \n",
            "3      4122493.0   4164125.0   4051300.0   3720251.0   2380017.0   2033684.0   \n",
            "4      3268505.0   3399965.0   3309479.0   3026072.0   1808811.0   1492255.0   \n",
            "...          ...         ...         ...         ...         ...         ...   \n",
            "3519         1.0         1.0         NaN         1.0         1.0         2.0   \n",
            "3521        15.0        26.0        28.0        18.0        12.0        13.0   \n",
            "3522         9.0         9.0        11.0        10.0         5.0         4.0   \n",
            "3523        17.0        20.0        24.0        16.0        16.0        11.0   \n",
            "3524         5.0         4.0         4.0         4.0         8.0         9.0   \n",
            "\n",
            "            2017        2018        2019        2020        2021        2022  \n",
            "0     17741325.0  19550037.0  19017108.0  17653275.0  22365766.0  24925766.0  \n",
            "1      1731381.0   1810271.0   1788200.0   1809475.0   2148665.0   2325521.0  \n",
            "2      1473948.0   1533561.0   1533159.0   1573538.0   1836335.0   2007666.0  \n",
            "3      2611396.0   3264056.0   3102597.0   2326889.0   3670710.0   4950975.0  \n",
            "4      1948478.0   2528513.0   2370333.0   1571511.0   2555970.0   3865877.0  \n",
            "...          ...         ...         ...         ...         ...         ...  \n",
            "3519         1.0         NaN         NaN         1.0         NaN         NaN  \n",
            "3521        14.0        11.0        27.0        11.0         7.0         NaN  \n",
            "3522         6.0         3.0         4.0         3.0         3.0         NaN  \n",
            "3523         7.0         9.0         7.0         6.0        10.0         NaN  \n",
            "3524        11.0        16.0        13.0        10.0        11.0         NaN  \n",
            "\n",
            "[2902 rows x 18 columns]\n"
          ]
        }
      ],
      "source": [
        "print(numeric_data)"
      ]
    },
    {
      "cell_type": "markdown",
      "metadata": {
        "id": "lekc0Web1jI5"
      },
      "source": [
        "since the data depends on the region(rows) as well as the time i'll use KNNimputer which uses a proximaty(distance) metric to find the missing value. choose the n neighbors useing a hyper pramater that should be tuned"
      ]
    },
    {
      "cell_type": "code",
      "execution_count": 105,
      "metadata": {
        "id": "LaAMO0b15Mxt"
      },
      "outputs": [],
      "source": [
        "imputer = KNNImputer(n_neighbors=5, weights= 'distance')\n",
        "##thinking of using the uneven weights of this method"
      ]
    },
    {
      "cell_type": "code",
      "execution_count": 106,
      "metadata": {
        "colab": {
          "base_uri": "https://localhost:8080/"
        },
        "id": "mXQWTUZ5rbeF",
        "outputId": "39859c8e-4843-46e1-bddb-e59d5dc4e7b2"
      },
      "outputs": [
        {
          "name": "stdout",
          "output_type": "stream",
          "text": [
            "         2005        2006        2007        2008        2009        2010  \\\n",
            "0  10510291.0  12131279.0  14031816.0  16168718.0  12564776.0  15301659.0   \n",
            "1    847715.0    942450.0   1131691.0   1342823.0   1177136.0   1354429.0   \n",
            "2    680936.0    753836.0    915653.0   1114698.0    998004.0   1115790.0   \n",
            "3   1810185.0   2319402.0   2674500.0   3554158.0   2299789.0   3074398.0   \n",
            "4   1457315.0   1801129.0   2047440.0   2884170.0   1838528.0   2395065.0   \n",
            "\n",
            "         2011        2012        2013        2014        2015        2016  \\\n",
            "0  18337603.0  18508981.0  18958769.0  18999593.0  16554643.0  16036335.0   \n",
            "1   1649389.0   1655099.0   1731531.0   1746687.0   1565686.0   1585693.0   \n",
            "2   1350316.0   1369778.0   1445339.0   1480252.0   1332886.0   1357202.0   \n",
            "3   4122493.0   4164125.0   4051300.0   3720251.0   2380017.0   2033684.0   \n",
            "4   3268505.0   3399965.0   3309479.0   3026072.0   1808811.0   1492255.0   \n",
            "\n",
            "         2017        2018        2019        2020        2021        2022  \n",
            "0  17741325.0  19550037.0  19017108.0  17653275.0  22365766.0  24925766.0  \n",
            "1   1731381.0   1810271.0   1788200.0   1809475.0   2148665.0   2325521.0  \n",
            "2   1473948.0   1533561.0   1533159.0   1573538.0   1836335.0   2007666.0  \n",
            "3   2611396.0   3264056.0   3102597.0   2326889.0   3670710.0   4950975.0  \n",
            "4   1948478.0   2528513.0   2370333.0   1571511.0   2555970.0   3865877.0  \n"
          ]
        }
      ],
      "source": [
        "## data preprocessing\n",
        "imputed_data = imputer.fit_transform(numeric_data)\n",
        "imputed_df = pd.DataFrame(imputed_data, columns=numeric_data.columns)\n",
        "print(imputed_df.head())"
      ]
    },
    {
      "cell_type": "code",
      "execution_count": 107,
      "metadata": {},
      "outputs": [
        {
          "data": {
            "text/html": [
              "<div>\n",
              "<style scoped>\n",
              "    .dataframe tbody tr th:only-of-type {\n",
              "        vertical-align: middle;\n",
              "    }\n",
              "\n",
              "    .dataframe tbody tr th {\n",
              "        vertical-align: top;\n",
              "    }\n",
              "\n",
              "    .dataframe thead th {\n",
              "        text-align: right;\n",
              "    }\n",
              "</style>\n",
              "<table border=\"1\" class=\"dataframe\">\n",
              "  <thead>\n",
              "    <tr style=\"text-align: right;\">\n",
              "      <th></th>\n",
              "      <th>Reporting Economy</th>\n",
              "      <th>Product/Sector</th>\n",
              "    </tr>\n",
              "  </thead>\n",
              "  <tbody>\n",
              "    <tr>\n",
              "      <th>0</th>\n",
              "      <td>World</td>\n",
              "      <td>SI3_AGG - TO - Total merchandise</td>\n",
              "    </tr>\n",
              "    <tr>\n",
              "      <th>1</th>\n",
              "      <td>World</td>\n",
              "      <td>SI3_AGG - AG - Agricultural products</td>\n",
              "    </tr>\n",
              "    <tr>\n",
              "      <th>2</th>\n",
              "      <td>World</td>\n",
              "      <td>SI3_AGG - AGFO - Food</td>\n",
              "    </tr>\n",
              "    <tr>\n",
              "      <th>3</th>\n",
              "      <td>World</td>\n",
              "      <td>SI3_AGG - MI - Fuels and mining products</td>\n",
              "    </tr>\n",
              "    <tr>\n",
              "      <th>4</th>\n",
              "      <td>World</td>\n",
              "      <td>SI3_AGG - MIFU - Fuels</td>\n",
              "    </tr>\n",
              "  </tbody>\n",
              "</table>\n",
              "</div>"
            ],
            "text/plain": [
              "  Reporting Economy                            Product/Sector\n",
              "0             World          SI3_AGG - TO - Total merchandise\n",
              "1             World      SI3_AGG - AG - Agricultural products\n",
              "2             World                     SI3_AGG - AGFO - Food\n",
              "3             World  SI3_AGG - MI - Fuels and mining products\n",
              "4             World                    SI3_AGG - MIFU - Fuels"
            ]
          },
          "execution_count": 107,
          "metadata": {},
          "output_type": "execute_result"
        }
      ],
      "source": [
        "X_data=df.iloc[:,:2]\n",
        "X_data.head()"
      ]
    },
    {
      "cell_type": "code",
      "execution_count": 115,
      "metadata": {},
      "outputs": [
        {
          "data": {
            "text/html": [
              "<div>\n",
              "<style scoped>\n",
              "    .dataframe tbody tr th:only-of-type {\n",
              "        vertical-align: middle;\n",
              "    }\n",
              "\n",
              "    .dataframe tbody tr th {\n",
              "        vertical-align: top;\n",
              "    }\n",
              "\n",
              "    .dataframe thead th {\n",
              "        text-align: right;\n",
              "    }\n",
              "</style>\n",
              "<table border=\"1\" class=\"dataframe\">\n",
              "  <thead>\n",
              "    <tr style=\"text-align: right;\">\n",
              "      <th></th>\n",
              "      <th>Reporting Economy</th>\n",
              "      <th>Product/Sector</th>\n",
              "      <th>2005</th>\n",
              "      <th>2006</th>\n",
              "      <th>2007</th>\n",
              "      <th>2008</th>\n",
              "      <th>2009</th>\n",
              "      <th>2010</th>\n",
              "      <th>2011</th>\n",
              "      <th>2012</th>\n",
              "      <th>2013</th>\n",
              "      <th>2014</th>\n",
              "      <th>2015</th>\n",
              "      <th>2016</th>\n",
              "      <th>2017</th>\n",
              "      <th>2018</th>\n",
              "      <th>2019</th>\n",
              "      <th>2020</th>\n",
              "      <th>2021</th>\n",
              "      <th>2022</th>\n",
              "    </tr>\n",
              "  </thead>\n",
              "  <tbody>\n",
              "    <tr>\n",
              "      <th>0</th>\n",
              "      <td>World</td>\n",
              "      <td>SI3_AGG - TO - Total merchandise</td>\n",
              "      <td>10510291.0</td>\n",
              "      <td>12131279.0</td>\n",
              "      <td>14031816.0</td>\n",
              "      <td>16168718.0</td>\n",
              "      <td>12564776.0</td>\n",
              "      <td>15301659.0</td>\n",
              "      <td>18337603.0</td>\n",
              "      <td>18508981.0</td>\n",
              "      <td>18958769.0</td>\n",
              "      <td>18999593.0</td>\n",
              "      <td>16554643.0</td>\n",
              "      <td>16036335.0</td>\n",
              "      <td>17741325.0</td>\n",
              "      <td>19550037.0</td>\n",
              "      <td>19017108.0</td>\n",
              "      <td>17653275.0</td>\n",
              "      <td>22365766.0</td>\n",
              "      <td>24925766.0</td>\n",
              "    </tr>\n",
              "    <tr>\n",
              "      <th>1</th>\n",
              "      <td>World</td>\n",
              "      <td>SI3_AGG - AG - Agricultural products</td>\n",
              "      <td>847715.0</td>\n",
              "      <td>942450.0</td>\n",
              "      <td>1131691.0</td>\n",
              "      <td>1342823.0</td>\n",
              "      <td>1177136.0</td>\n",
              "      <td>1354429.0</td>\n",
              "      <td>1649389.0</td>\n",
              "      <td>1655099.0</td>\n",
              "      <td>1731531.0</td>\n",
              "      <td>1746687.0</td>\n",
              "      <td>1565686.0</td>\n",
              "      <td>1585693.0</td>\n",
              "      <td>1731381.0</td>\n",
              "      <td>1810271.0</td>\n",
              "      <td>1788200.0</td>\n",
              "      <td>1809475.0</td>\n",
              "      <td>2148665.0</td>\n",
              "      <td>2325521.0</td>\n",
              "    </tr>\n",
              "    <tr>\n",
              "      <th>2</th>\n",
              "      <td>World</td>\n",
              "      <td>SI3_AGG - AGFO - Food</td>\n",
              "      <td>680936.0</td>\n",
              "      <td>753836.0</td>\n",
              "      <td>915653.0</td>\n",
              "      <td>1114698.0</td>\n",
              "      <td>998004.0</td>\n",
              "      <td>1115790.0</td>\n",
              "      <td>1350316.0</td>\n",
              "      <td>1369778.0</td>\n",
              "      <td>1445339.0</td>\n",
              "      <td>1480252.0</td>\n",
              "      <td>1332886.0</td>\n",
              "      <td>1357202.0</td>\n",
              "      <td>1473948.0</td>\n",
              "      <td>1533561.0</td>\n",
              "      <td>1533159.0</td>\n",
              "      <td>1573538.0</td>\n",
              "      <td>1836335.0</td>\n",
              "      <td>2007666.0</td>\n",
              "    </tr>\n",
              "    <tr>\n",
              "      <th>3</th>\n",
              "      <td>World</td>\n",
              "      <td>SI3_AGG - MI - Fuels and mining products</td>\n",
              "      <td>1810185.0</td>\n",
              "      <td>2319402.0</td>\n",
              "      <td>2674500.0</td>\n",
              "      <td>3554158.0</td>\n",
              "      <td>2299789.0</td>\n",
              "      <td>3074398.0</td>\n",
              "      <td>4122493.0</td>\n",
              "      <td>4164125.0</td>\n",
              "      <td>4051300.0</td>\n",
              "      <td>3720251.0</td>\n",
              "      <td>2380017.0</td>\n",
              "      <td>2033684.0</td>\n",
              "      <td>2611396.0</td>\n",
              "      <td>3264056.0</td>\n",
              "      <td>3102597.0</td>\n",
              "      <td>2326889.0</td>\n",
              "      <td>3670710.0</td>\n",
              "      <td>4950975.0</td>\n",
              "    </tr>\n",
              "    <tr>\n",
              "      <th>4</th>\n",
              "      <td>World</td>\n",
              "      <td>SI3_AGG - MIFU - Fuels</td>\n",
              "      <td>1457315.0</td>\n",
              "      <td>1801129.0</td>\n",
              "      <td>2047440.0</td>\n",
              "      <td>2884170.0</td>\n",
              "      <td>1838528.0</td>\n",
              "      <td>2395065.0</td>\n",
              "      <td>3268505.0</td>\n",
              "      <td>3399965.0</td>\n",
              "      <td>3309479.0</td>\n",
              "      <td>3026072.0</td>\n",
              "      <td>1808811.0</td>\n",
              "      <td>1492255.0</td>\n",
              "      <td>1948478.0</td>\n",
              "      <td>2528513.0</td>\n",
              "      <td>2370333.0</td>\n",
              "      <td>1571511.0</td>\n",
              "      <td>2555970.0</td>\n",
              "      <td>3865877.0</td>\n",
              "    </tr>\n",
              "  </tbody>\n",
              "</table>\n",
              "</div>"
            ],
            "text/plain": [
              "  Reporting Economy                            Product/Sector        2005  \\\n",
              "0             World          SI3_AGG - TO - Total merchandise  10510291.0   \n",
              "1             World      SI3_AGG - AG - Agricultural products    847715.0   \n",
              "2             World                     SI3_AGG - AGFO - Food    680936.0   \n",
              "3             World  SI3_AGG - MI - Fuels and mining products   1810185.0   \n",
              "4             World                    SI3_AGG - MIFU - Fuels   1457315.0   \n",
              "\n",
              "         2006        2007        2008        2009        2010        2011  \\\n",
              "0  12131279.0  14031816.0  16168718.0  12564776.0  15301659.0  18337603.0   \n",
              "1    942450.0   1131691.0   1342823.0   1177136.0   1354429.0   1649389.0   \n",
              "2    753836.0    915653.0   1114698.0    998004.0   1115790.0   1350316.0   \n",
              "3   2319402.0   2674500.0   3554158.0   2299789.0   3074398.0   4122493.0   \n",
              "4   1801129.0   2047440.0   2884170.0   1838528.0   2395065.0   3268505.0   \n",
              "\n",
              "         2012        2013        2014        2015        2016        2017  \\\n",
              "0  18508981.0  18958769.0  18999593.0  16554643.0  16036335.0  17741325.0   \n",
              "1   1655099.0   1731531.0   1746687.0   1565686.0   1585693.0   1731381.0   \n",
              "2   1369778.0   1445339.0   1480252.0   1332886.0   1357202.0   1473948.0   \n",
              "3   4164125.0   4051300.0   3720251.0   2380017.0   2033684.0   2611396.0   \n",
              "4   3399965.0   3309479.0   3026072.0   1808811.0   1492255.0   1948478.0   \n",
              "\n",
              "         2018        2019        2020        2021        2022  \n",
              "0  19550037.0  19017108.0  17653275.0  22365766.0  24925766.0  \n",
              "1   1810271.0   1788200.0   1809475.0   2148665.0   2325521.0  \n",
              "2   1533561.0   1533159.0   1573538.0   1836335.0   2007666.0  \n",
              "3   3264056.0   3102597.0   2326889.0   3670710.0   4950975.0  \n",
              "4   2528513.0   2370333.0   1571511.0   2555970.0   3865877.0  "
            ]
          },
          "execution_count": 115,
          "metadata": {},
          "output_type": "execute_result"
        }
      ],
      "source": [
        "X_data_reset = X_data.reset_index(drop=True)\n",
        "imputed_df_reset = imputed_df.reset_index(drop=True)\n",
        "final_imputed_df = pd.concat([X_data_reset, imputed_df_reset], axis=1)\n",
        "final_imputed_df.head()"
      ]
    },
    {
      "cell_type": "code",
      "execution_count": 116,
      "metadata": {},
      "outputs": [
        {
          "name": "stdout",
          "output_type": "stream",
          "text": [
            "     Reporting Economy                                     Product/Sector  \\\n",
            "0                World                   SI3_AGG - TO - Total merchandise   \n",
            "1                World               SI3_AGG - AG - Agricultural products   \n",
            "2                World                              SI3_AGG - AGFO - Food   \n",
            "3                World           SI3_AGG - MI - Fuels and mining products   \n",
            "4                World                             SI3_AGG - MIFU - Fuels   \n",
            "...                ...                                                ...   \n",
            "2897          Zimbabwe  SI3_AGG - MAMTOTTL - Telecommunications equipment   \n",
            "2898          Zimbabwe             SI3_AGG - MAMTTE - Transport equipment   \n",
            "2899          Zimbabwe             SI3_AGG - MAMTAU - Automotive products   \n",
            "2900          Zimbabwe                          SI3_AGG - MATE - Textiles   \n",
            "2901          Zimbabwe                          SI3_AGG - MACL - Clothing   \n",
            "\n",
            "            2005        2006        2007        2008        2009        2010  \\\n",
            "0     10510291.0  12131279.0  14031816.0  16168718.0  12564776.0  15301659.0   \n",
            "1       847715.0    942450.0   1131691.0   1342823.0   1177136.0   1354429.0   \n",
            "2       680936.0    753836.0    915653.0   1114698.0    998004.0   1115790.0   \n",
            "3      1810185.0   2319402.0   2674500.0   3554158.0   2299789.0   3074398.0   \n",
            "4      1457315.0   1801129.0   2047440.0   2884170.0   1838528.0   2395065.0   \n",
            "...          ...         ...         ...         ...         ...         ...   \n",
            "2897         1.0         1.0         7.0         1.0         5.0         1.0   \n",
            "2898         8.0       165.0        84.0        90.0        16.0        17.0   \n",
            "2899         6.0        16.0        28.0        77.0        10.0         8.0   \n",
            "2900        14.0        23.0        67.0        74.0        17.0        18.0   \n",
            "2901         7.0        17.0        18.0        47.0        16.0         7.0   \n",
            "\n",
            "            2011        2012        2013        2014        2015        2016  \\\n",
            "0     18337603.0  18508981.0  18958769.0  18999593.0  16554643.0  16036335.0   \n",
            "1      1649389.0   1655099.0   1731531.0   1746687.0   1565686.0   1585693.0   \n",
            "2      1350316.0   1369778.0   1445339.0   1480252.0   1332886.0   1357202.0   \n",
            "3      4122493.0   4164125.0   4051300.0   3720251.0   2380017.0   2033684.0   \n",
            "4      3268505.0   3399965.0   3309479.0   3026072.0   1808811.0   1492255.0   \n",
            "...          ...         ...         ...         ...         ...         ...   \n",
            "2897         1.0         1.0         1.0         1.0         1.0         2.0   \n",
            "2898        15.0        26.0        28.0        18.0        12.0        13.0   \n",
            "2899         9.0         9.0        11.0        10.0         5.0         4.0   \n",
            "2900        17.0        20.0        24.0        16.0        16.0        11.0   \n",
            "2901         5.0         4.0         4.0         4.0         8.0         9.0   \n",
            "\n",
            "            2017        2018        2019        2020        2021          2022  \n",
            "0     17741325.0  19550037.0  19017108.0  17653275.0  22365766.0  2.492577e+07  \n",
            "1      1731381.0   1810271.0   1788200.0   1809475.0   2148665.0  2.325521e+06  \n",
            "2      1473948.0   1533561.0   1533159.0   1573538.0   1836335.0  2.007666e+06  \n",
            "3      2611396.0   3264056.0   3102597.0   2326889.0   3670710.0  4.950975e+06  \n",
            "4      1948478.0   2528513.0   2370333.0   1571511.0   2555970.0  3.865877e+06  \n",
            "...          ...         ...         ...         ...         ...           ...  \n",
            "2897         1.0         2.0         1.0         1.0         1.0  1.000000e+00  \n",
            "2898        14.0        11.0        27.0        11.0         7.0  1.716771e+01  \n",
            "2899         6.0         3.0         4.0         3.0         3.0  5.544550e+00  \n",
            "2900         7.0         9.0         7.0         6.0        10.0  9.243413e+00  \n",
            "2901        11.0        16.0        13.0        10.0        11.0  1.306739e+01  \n",
            "\n",
            "[2902 rows x 20 columns]\n"
          ]
        }
      ],
      "source": [
        "print(final_imputed_df)"
      ]
    },
    {
      "cell_type": "code",
      "execution_count": 126,
      "metadata": {},
      "outputs": [],
      "source": [
        "df_long = final_imputed_df.copy()"
      ]
    },
    {
      "cell_type": "code",
      "execution_count": 127,
      "metadata": {},
      "outputs": [],
      "source": [
        "df_long = pd.melt(df_long, id_vars=['Product/Sector','Reporting Economy'], value_vars=[ '2005',\n",
        "'2006','2007','2008', '2009', '2010', '2011', '2012', '2013', '2014', '2015', '2016', '2017', '2018', '2019', '2020', '2021', '2022'\n",
        "], var_name='Year', value_name='Value')"
      ]
    },
    {
      "cell_type": "code",
      "execution_count": 130,
      "metadata": {},
      "outputs": [],
      "source": [
        "df_long.to_excel('NanOver9removedlong.xlsx', index=False)"
      ]
    },
    {
      "cell_type": "code",
      "execution_count": 117,
      "metadata": {},
      "outputs": [],
      "source": [
        "##output the data \n",
        "final_imputed_df.to_excel('NanOver9removed.xlsx', index=False)"
      ]
    }
  ],
  "metadata": {
    "colab": {
      "provenance": []
    },
    "kernelspec": {
      "display_name": "Python 3",
      "name": "python3"
    },
    "language_info": {
      "codemirror_mode": {
        "name": "ipython",
        "version": 3
      },
      "file_extension": ".py",
      "mimetype": "text/x-python",
      "name": "python",
      "nbconvert_exporter": "python",
      "pygments_lexer": "ipython3",
      "version": "3.11.9"
    }
  },
  "nbformat": 4,
  "nbformat_minor": 0
}
