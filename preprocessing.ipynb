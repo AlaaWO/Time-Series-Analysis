{
  "cells": [
    {
      "cell_type": "markdown",
      "metadata": {
        "id": "E0g-gTY_k8Yl"
      },
      "source": [
        "# first exploring the data"
      ]
    },
    {
      "cell_type": "code",
      "execution_count": 1,
      "metadata": {
        "id": "6ECsplKNlgkp"
      },
      "outputs": [
        {
          "name": "stderr",
          "output_type": "stream",
          "text": [
            "C:\\Users\\alaaw\\AppData\\Local\\Temp\\ipykernel_26868\\631163819.py:3: DeprecationWarning: \n",
            "Pyarrow will become a required dependency of pandas in the next major release of pandas (pandas 3.0),\n",
            "(to allow more performant data types, such as the Arrow string type, and better interoperability with other libraries)\n",
            "but was not found to be installed on your system.\n",
            "If this would cause problems for you,\n",
            "please provide us feedback at https://github.com/pandas-dev/pandas/issues/54466\n",
            "        \n",
            "  import pandas as pd\n"
          ]
        },
        {
          "name": "stdout",
          "output_type": "stream",
          "text": [
            "WARNING:tensorflow:From C:\\Users\\alaaw\\AppData\\Local\\Packages\\PythonSoftwareFoundation.Python.3.11_qbz5n2kfra8p0\\LocalCache\\local-packages\\Python311\\site-packages\\keras\\src\\losses.py:2976: The name tf.losses.sparse_softmax_cross_entropy is deprecated. Please use tf.compat.v1.losses.sparse_softmax_cross_entropy instead.\n",
            "\n"
          ]
        }
      ],
      "source": [
        "# Import packages\n",
        "#import plotly.express as px\n",
        "import pandas as pd\n",
        "#from statsmodels.tsa.stattools import adfuller\n",
        "import numpy as np\n",
        "import sklearn as sk\n",
        "## import pmdarima\n",
        "import tensorflow\n",
        "## import fprophet\n",
        "## from pmdarima.arima import auto_arima\n",
        "## from fbprophet import Prophet\n",
        "## from tensorflow.keras.models import Sequential\n",
        "## from tensorflow.keras.layers import LSTM, Dense\n",
        "from sklearn.impute import KNNImputer\n",
        "import matplotlib.pyplot as plt\n",
        "from sklearn.metrics import mean_squared_error\n"
      ]
    },
    {
      "cell_type": "code",
      "execution_count": 2,
      "metadata": {
        "colab": {
          "base_uri": "https://localhost:8080/",
          "height": 382
        },
        "id": "3pTH5JuElmjb",
        "outputId": "6f730091-b43f-4af0-fb23-f1be6d52a4e1"
      },
      "outputs": [
        {
          "data": {
            "text/html": [
              "<div>\n",
              "<style scoped>\n",
              "    .dataframe tbody tr th:only-of-type {\n",
              "        vertical-align: middle;\n",
              "    }\n",
              "\n",
              "    .dataframe tbody tr th {\n",
              "        vertical-align: top;\n",
              "    }\n",
              "\n",
              "    .dataframe thead th {\n",
              "        text-align: right;\n",
              "    }\n",
              "</style>\n",
              "<table border=\"1\" class=\"dataframe\">\n",
              "  <thead>\n",
              "    <tr style=\"text-align: right;\">\n",
              "      <th></th>\n",
              "      <th>Reporting Economy</th>\n",
              "      <th>Product/Sector</th>\n",
              "      <th>2005</th>\n",
              "      <th>2006</th>\n",
              "      <th>2007</th>\n",
              "      <th>2008</th>\n",
              "      <th>2009</th>\n",
              "      <th>2010</th>\n",
              "      <th>2011</th>\n",
              "      <th>2012</th>\n",
              "      <th>2013</th>\n",
              "      <th>2014</th>\n",
              "      <th>2015</th>\n",
              "      <th>2016</th>\n",
              "      <th>2017</th>\n",
              "      <th>2018</th>\n",
              "      <th>2019</th>\n",
              "      <th>2020</th>\n",
              "      <th>2021</th>\n",
              "      <th>2022</th>\n",
              "    </tr>\n",
              "  </thead>\n",
              "  <tbody>\n",
              "    <tr>\n",
              "      <th>0</th>\n",
              "      <td>World</td>\n",
              "      <td>SI3_AGG - TO - Total merchandise</td>\n",
              "      <td>10510291.0</td>\n",
              "      <td>12131279.0</td>\n",
              "      <td>14031816.0</td>\n",
              "      <td>16168718.0</td>\n",
              "      <td>12564776.0</td>\n",
              "      <td>15301659.0</td>\n",
              "      <td>18337603.0</td>\n",
              "      <td>18508981.0</td>\n",
              "      <td>18958769.0</td>\n",
              "      <td>18999593.0</td>\n",
              "      <td>16554643.0</td>\n",
              "      <td>16036335.0</td>\n",
              "      <td>17741325.0</td>\n",
              "      <td>19550037.0</td>\n",
              "      <td>19017108.0</td>\n",
              "      <td>17653275.0</td>\n",
              "      <td>22365766.0</td>\n",
              "      <td>24925766.0</td>\n",
              "    </tr>\n",
              "    <tr>\n",
              "      <th>1</th>\n",
              "      <td>World</td>\n",
              "      <td>SI3_AGG - AG - Agricultural products</td>\n",
              "      <td>847715.0</td>\n",
              "      <td>942450.0</td>\n",
              "      <td>1131691.0</td>\n",
              "      <td>1342823.0</td>\n",
              "      <td>1177136.0</td>\n",
              "      <td>1354429.0</td>\n",
              "      <td>1649389.0</td>\n",
              "      <td>1655099.0</td>\n",
              "      <td>1731531.0</td>\n",
              "      <td>1746687.0</td>\n",
              "      <td>1565686.0</td>\n",
              "      <td>1585693.0</td>\n",
              "      <td>1731381.0</td>\n",
              "      <td>1810271.0</td>\n",
              "      <td>1788200.0</td>\n",
              "      <td>1809475.0</td>\n",
              "      <td>2148665.0</td>\n",
              "      <td>2325521.0</td>\n",
              "    </tr>\n",
              "    <tr>\n",
              "      <th>2</th>\n",
              "      <td>World</td>\n",
              "      <td>SI3_AGG - AGFO - Food</td>\n",
              "      <td>680936.0</td>\n",
              "      <td>753836.0</td>\n",
              "      <td>915653.0</td>\n",
              "      <td>1114698.0</td>\n",
              "      <td>998004.0</td>\n",
              "      <td>1115790.0</td>\n",
              "      <td>1350316.0</td>\n",
              "      <td>1369778.0</td>\n",
              "      <td>1445339.0</td>\n",
              "      <td>1480252.0</td>\n",
              "      <td>1332886.0</td>\n",
              "      <td>1357202.0</td>\n",
              "      <td>1473948.0</td>\n",
              "      <td>1533561.0</td>\n",
              "      <td>1533159.0</td>\n",
              "      <td>1573538.0</td>\n",
              "      <td>1836335.0</td>\n",
              "      <td>2007666.0</td>\n",
              "    </tr>\n",
              "    <tr>\n",
              "      <th>3</th>\n",
              "      <td>World</td>\n",
              "      <td>SI3_AGG - MI - Fuels and mining products</td>\n",
              "      <td>1810185.0</td>\n",
              "      <td>2319402.0</td>\n",
              "      <td>2674500.0</td>\n",
              "      <td>3554158.0</td>\n",
              "      <td>2299789.0</td>\n",
              "      <td>3074398.0</td>\n",
              "      <td>4122493.0</td>\n",
              "      <td>4164125.0</td>\n",
              "      <td>4051300.0</td>\n",
              "      <td>3720251.0</td>\n",
              "      <td>2380017.0</td>\n",
              "      <td>2033684.0</td>\n",
              "      <td>2611396.0</td>\n",
              "      <td>3264056.0</td>\n",
              "      <td>3102597.0</td>\n",
              "      <td>2326889.0</td>\n",
              "      <td>3670710.0</td>\n",
              "      <td>4950975.0</td>\n",
              "    </tr>\n",
              "    <tr>\n",
              "      <th>4</th>\n",
              "      <td>World</td>\n",
              "      <td>SI3_AGG - MIFU - Fuels</td>\n",
              "      <td>1457315.0</td>\n",
              "      <td>1801129.0</td>\n",
              "      <td>2047440.0</td>\n",
              "      <td>2884170.0</td>\n",
              "      <td>1838528.0</td>\n",
              "      <td>2395065.0</td>\n",
              "      <td>3268505.0</td>\n",
              "      <td>3399965.0</td>\n",
              "      <td>3309479.0</td>\n",
              "      <td>3026072.0</td>\n",
              "      <td>1808811.0</td>\n",
              "      <td>1492255.0</td>\n",
              "      <td>1948478.0</td>\n",
              "      <td>2528513.0</td>\n",
              "      <td>2370333.0</td>\n",
              "      <td>1571511.0</td>\n",
              "      <td>2555970.0</td>\n",
              "      <td>3865877.0</td>\n",
              "    </tr>\n",
              "  </tbody>\n",
              "</table>\n",
              "</div>"
            ],
            "text/plain": [
              "  Reporting Economy                            Product/Sector        2005  \\\n",
              "0             World          SI3_AGG - TO - Total merchandise  10510291.0   \n",
              "1             World      SI3_AGG - AG - Agricultural products    847715.0   \n",
              "2             World                     SI3_AGG - AGFO - Food    680936.0   \n",
              "3             World  SI3_AGG - MI - Fuels and mining products   1810185.0   \n",
              "4             World                    SI3_AGG - MIFU - Fuels   1457315.0   \n",
              "\n",
              "         2006        2007        2008        2009        2010        2011  \\\n",
              "0  12131279.0  14031816.0  16168718.0  12564776.0  15301659.0  18337603.0   \n",
              "1    942450.0   1131691.0   1342823.0   1177136.0   1354429.0   1649389.0   \n",
              "2    753836.0    915653.0   1114698.0    998004.0   1115790.0   1350316.0   \n",
              "3   2319402.0   2674500.0   3554158.0   2299789.0   3074398.0   4122493.0   \n",
              "4   1801129.0   2047440.0   2884170.0   1838528.0   2395065.0   3268505.0   \n",
              "\n",
              "         2012        2013        2014        2015        2016        2017  \\\n",
              "0  18508981.0  18958769.0  18999593.0  16554643.0  16036335.0  17741325.0   \n",
              "1   1655099.0   1731531.0   1746687.0   1565686.0   1585693.0   1731381.0   \n",
              "2   1369778.0   1445339.0   1480252.0   1332886.0   1357202.0   1473948.0   \n",
              "3   4164125.0   4051300.0   3720251.0   2380017.0   2033684.0   2611396.0   \n",
              "4   3399965.0   3309479.0   3026072.0   1808811.0   1492255.0   1948478.0   \n",
              "\n",
              "         2018        2019        2020        2021        2022  \n",
              "0  19550037.0  19017108.0  17653275.0  22365766.0  24925766.0  \n",
              "1   1810271.0   1788200.0   1809475.0   2148665.0   2325521.0  \n",
              "2   1533561.0   1533159.0   1573538.0   1836335.0   2007666.0  \n",
              "3   3264056.0   3102597.0   2326889.0   3670710.0   4950975.0  \n",
              "4   2528513.0   2370333.0   1571511.0   2555970.0   3865877.0  "
            ]
          },
          "execution_count": 2,
          "metadata": {},
          "output_type": "execute_result"
        }
      ],
      "source": [
        "# Read in the data\n",
        "df = pd.read_excel(\"Sample Data Set (1).xlsx\")\n",
        "df.head()"
      ]
    },
    {
      "cell_type": "markdown",
      "metadata": {
        "id": "4uU8ksCPlpqV"
      },
      "source": [
        "checking the number of mising values in the data for each each column in our dataset"
      ]
    },
    {
      "cell_type": "code",
      "execution_count": null,
      "metadata": {
        "colab": {
          "base_uri": "https://localhost:8080/"
        },
        "id": "eKYlIK6IlwVR",
        "outputId": "6ed3eaec-698c-4638-b209-0a70d25d56eb"
      },
      "outputs": [],
      "source": [
        "print(df.isnull().sum())"
      ]
    },
    {
      "cell_type": "code",
      "execution_count": null,
      "metadata": {
        "id": "d7kpNXCOsv2B"
      },
      "outputs": [],
      "source": [
        "## slicing the desciptive data off the dataframe\n",
        "sliced_df = df.iloc[:, 2:]"
      ]
    },
    {
      "cell_type": "markdown",
      "metadata": {
        "id": "dYCjQheZ7xk7"
      },
      "source": [
        "Exploring futher, to find out wither some rows should be deleted or not"
      ]
    },
    {
      "cell_type": "code",
      "execution_count": null,
      "metadata": {
        "colab": {
          "base_uri": "https://localhost:8080/"
        },
        "id": "xY9WnVGusNDo",
        "outputId": "247c5b11-2d84-4cf6-f6ad-8c92eb907c57"
      },
      "outputs": [],
      "source": [
        "missing_values_per_row = sliced_df.isnull().sum(axis=1)\n",
        "rows_with_missing_values = missing_values_per_row[missing_values_per_row > 0]\n",
        "sorted_indices = missing_values_per_row.sort_values(ascending=False).index\n",
        "top_10_indices = sorted_indices[:10]\n",
        "missing_values_df = missing_values_per_row[top_10_indices].reset_index()\n",
        "missing_values_df.columns = ['index', 'missing_values']\n",
        "# Merge the original DataFrame with the missing values count\n",
        "result_df = df.loc[top_10_indices].reset_index().merge(missing_values_df, on='index')\n",
        "\n",
        "print(result_df)"
      ]
    },
    {
      "cell_type": "code",
      "execution_count": null,
      "metadata": {
        "colab": {
          "base_uri": "https://localhost:8080/"
        },
        "id": "ljiOFyuhy1c1",
        "outputId": "a24622b7-e61f-431f-f735-f732f816f294"
      },
      "outputs": [],
      "source": [
        "rows_with_over_15_missing_values = missing_values_per_row[missing_values_per_row > 15]\n",
        "\n",
        "# Count the number of such rows\n",
        "num_rows_with_over_15_missing = rows_with_over_15_missing_values.shape[0]\n",
        "\n",
        "# Step 6: Calculate the percentage of these rows over the overall data\n",
        "total_rows = df.shape[0]\n",
        "percentage = (num_rows_with_over_15_missing / total_rows) * 100\n",
        "\n",
        "# Output the results\n",
        "print(f\"Number of rows with more than 15 missing values: {num_rows_with_over_15_missing}\")\n",
        "print(f\"Percentage of rows with more than 15 missing values: {percentage:.2f}%\")"
      ]
    },
    {
      "cell_type": "markdown",
      "metadata": {
        "id": "fnllowoh8TOV"
      },
      "source": [
        "it seems like deleting the rows with missing values higer then 15, would mean sacrificing 1.87%. so we will explore some other options before choosing this option"
      ]
    },
    {
      "cell_type": "markdown",
      "metadata": {
        "id": "L_SM0Kvzr8TT"
      },
      "source": [
        "Afganistan has alot of missing data so i'm going to test the preprocessing on that. the data seems to be inconcsistant from region to region."
      ]
    },
    {
      "cell_type": "code",
      "execution_count": 4,
      "metadata": {
        "colab": {
          "base_uri": "https://localhost:8080/"
        },
        "id": "fihfkFn2sJNN",
        "outputId": "e6baaeac-edb9-476e-e09b-211f6559157c"
      },
      "outputs": [
        {
          "name": "stdout",
          "output_type": "stream",
          "text": [
            "   Reporting Economy                                     Product/Sector  \\\n",
            "18       Afghanistan                   SI3_AGG - TO - Total merchandise   \n",
            "19       Afghanistan               SI3_AGG - AG - Agricultural products   \n",
            "20       Afghanistan                              SI3_AGG - AGFO - Food   \n",
            "21       Afghanistan           SI3_AGG - MI - Fuels and mining products   \n",
            "22       Afghanistan                             SI3_AGG - MIFU - Fuels   \n",
            "23       Afghanistan                        SI3_AGG - MA - Manufactures   \n",
            "24       Afghanistan                    SI3_AGG - MAIS - Iron and steel   \n",
            "25       Afghanistan                         SI3_AGG - MACH - Chemicals   \n",
            "26       Afghanistan                 SI3_AGG - MACHPH - Pharmaceuticals   \n",
            "27       Afghanistan  SI3_AGG - MAMT - Machinery and transport equip...   \n",
            "28       Afghanistan    SI3_AGG - MAMTOF - Office and telecom equipment   \n",
            "29       Afghanistan  SI3_AGG - MAMTOTEP - Electronic data processin...   \n",
            "30       Afghanistan  SI3_AGG - MAMTOTTL - Telecommunications equipment   \n",
            "31       Afghanistan  SI3_AGG - MAMTOTIC - Integrated circuits and e...   \n",
            "32       Afghanistan             SI3_AGG - MAMTTE - Transport equipment   \n",
            "33       Afghanistan             SI3_AGG - MAMTAU - Automotive products   \n",
            "34       Afghanistan                          SI3_AGG - MATE - Textiles   \n",
            "35       Afghanistan                          SI3_AGG - MACL - Clothing   \n",
            "\n",
            "     2005   2006   2007   2008   2009   2010   2011   2012   2013   2014  \\\n",
            "18  384.0  416.0  454.0  540.0  403.0  388.0  376.0  429.0  515.0  570.0   \n",
            "19    NaN    NaN    NaN  311.0  251.0  197.0  196.0   76.0   70.0   83.0   \n",
            "20    NaN    NaN    NaN  284.0  221.0  156.0  147.0   75.0   70.0   83.0   \n",
            "21    NaN    NaN    NaN    0.0    1.0    1.0    1.0    NaN    NaN    NaN   \n",
            "22    NaN    NaN    NaN    NaN    NaN    NaN    NaN    NaN    NaN    NaN   \n",
            "23    NaN    NaN    NaN  187.0   73.0   76.0   53.0   73.0   73.0   84.0   \n",
            "24    NaN    NaN    NaN    NaN    NaN    NaN    NaN    NaN    NaN    NaN   \n",
            "25    NaN    NaN    NaN    NaN    NaN    NaN    NaN    NaN    NaN    NaN   \n",
            "26    NaN    NaN    NaN    NaN    NaN    NaN    NaN    NaN    NaN    NaN   \n",
            "27    NaN    NaN    NaN    NaN    NaN    NaN    NaN    NaN    NaN    NaN   \n",
            "28    NaN    NaN    NaN    NaN    NaN    NaN    NaN    NaN    NaN    NaN   \n",
            "29    NaN    NaN    NaN    NaN    NaN    NaN    NaN    NaN    NaN    NaN   \n",
            "30    NaN    NaN    NaN    NaN    NaN    NaN    NaN    NaN    NaN    NaN   \n",
            "31    NaN    NaN    NaN    NaN    NaN    NaN    NaN    NaN    NaN    NaN   \n",
            "32    NaN    NaN    NaN    NaN    NaN    NaN    NaN    NaN    NaN    NaN   \n",
            "33    NaN    NaN    NaN    NaN    NaN    NaN    NaN    NaN    NaN    NaN   \n",
            "34    NaN    NaN    NaN  150.0   68.0   70.0   49.0   73.0   73.0   84.0   \n",
            "35    NaN    NaN    NaN    NaN    NaN    NaN    NaN    NaN    NaN    NaN   \n",
            "\n",
            "     2015   2016   2017   2018   2019   2020    2021   2022  \n",
            "18  571.0  596.0  723.0  875.0  864.0  777.0  1035.0  992.0  \n",
            "19  361.0  437.0  637.0  725.0  730.0  694.0   732.0  650.0  \n",
            "20  277.0  339.0  495.0  579.0  548.0  529.0   545.0  418.0  \n",
            "21   26.0    7.0   51.0  100.0   89.0   51.0   158.0  304.0  \n",
            "22   20.0    NaN   44.0   89.0   70.0   27.0   100.0  247.0  \n",
            "23   91.0   39.0   34.0   34.0   44.0   25.0   143.0   37.0  \n",
            "24    NaN    NaN    NaN    NaN    0.0    0.0     0.0    0.0  \n",
            "25    0.0    NaN    1.0    0.0    1.0    1.0     2.0    1.0  \n",
            "26    NaN    NaN    NaN    NaN    0.0    0.0     0.0    0.0  \n",
            "27    NaN    NaN    0.0    4.0    1.0    5.0    77.0    5.0  \n",
            "28    NaN    NaN    NaN    0.0    0.0    2.0    59.0    1.0  \n",
            "29    NaN    NaN    NaN    NaN    0.0    0.0    55.0    0.0  \n",
            "30    NaN    NaN    NaN    0.0    0.0    1.0     2.0    0.0  \n",
            "31    NaN    NaN    NaN    NaN    0.0    0.0     2.0    0.0  \n",
            "32    NaN    NaN    NaN    2.0    1.0    2.0     5.0    1.0  \n",
            "33    NaN    NaN    NaN    2.0    1.0    0.0     1.0    1.0  \n",
            "34   90.0   39.0   25.0   23.0   30.0   10.0    14.0   17.0  \n",
            "35    NaN    NaN    0.0    0.0    0.0    0.0     1.0    1.0  \n"
          ]
        }
      ],
      "source": [
        "# Filter the data for Afghanistan\n",
        "afghanistan_data = df[df['Reporting Economy'] == 'Afghanistan']\n",
        "\n",
        "# Print the data for Afghanistan\n",
        "print(afghanistan_data)"
      ]
    },
    {
      "cell_type": "markdown",
      "metadata": {
        "id": "X1m5f3XI8lZK"
      },
      "source": [
        "Tuvalu seems to have a lot of missing data as well so i'll explore that too"
      ]
    },
    {
      "cell_type": "code",
      "execution_count": 3,
      "metadata": {
        "colab": {
          "base_uri": "https://localhost:8080/"
        },
        "id": "xyWIQDJW8tCz",
        "outputId": "9c3cc6ca-a9ce-452b-fecc-ddc34a14b13d"
      },
      "outputs": [
        {
          "name": "stdout",
          "output_type": "stream",
          "text": [
            "     Reporting Economy                                     Product/Sector  \\\n",
            "3276            Tuvalu                   SI3_AGG - TO - Total merchandise   \n",
            "3277            Tuvalu           SI3_AGG - MI - Fuels and mining products   \n",
            "3278            Tuvalu                             SI3_AGG - MIFU - Fuels   \n",
            "3279            Tuvalu                        SI3_AGG - MA - Manufactures   \n",
            "3280            Tuvalu  SI3_AGG - MAMT - Machinery and transport equip...   \n",
            "3281            Tuvalu    SI3_AGG - MAMTOF - Office and telecom equipment   \n",
            "3282            Tuvalu  SI3_AGG - MAMTOTEP - Electronic data processin...   \n",
            "3283            Tuvalu  SI3_AGG - MAMTOTTL - Telecommunications equipment   \n",
            "3284            Tuvalu             SI3_AGG - MAMTTE - Transport equipment   \n",
            "3285            Tuvalu             SI3_AGG - MAMTAU - Automotive products   \n",
            "\n",
            "      2005  2006  2007  2008  2009  2010  2011  2012  2013  2014  2015  2016  \\\n",
            "3276   0.0   0.0   0.0   0.0   0.0   0.0   0.0   0.0   0.0   0.0   0.0   0.0   \n",
            "3277   0.0   NaN   NaN   NaN   NaN   NaN   NaN   NaN   NaN   NaN   NaN   NaN   \n",
            "3278   0.0   NaN   NaN   NaN   NaN   NaN   NaN   NaN   NaN   NaN   NaN   NaN   \n",
            "3279   0.0   NaN   NaN   NaN   NaN   NaN   NaN   NaN   NaN   NaN   NaN   NaN   \n",
            "3280   0.0   NaN   NaN   NaN   NaN   NaN   NaN   NaN   NaN   NaN   NaN   NaN   \n",
            "3281   0.0   NaN   NaN   NaN   NaN   NaN   NaN   NaN   NaN   NaN   NaN   NaN   \n",
            "3282   0.0   NaN   NaN   NaN   NaN   NaN   NaN   NaN   NaN   NaN   NaN   NaN   \n",
            "3283   0.0   NaN   NaN   NaN   NaN   NaN   NaN   NaN   NaN   NaN   NaN   NaN   \n",
            "3284   0.0   NaN   NaN   NaN   NaN   NaN   NaN   NaN   NaN   NaN   NaN   NaN   \n",
            "3285   0.0   NaN   NaN   NaN   NaN   NaN   NaN   NaN   NaN   NaN   NaN   NaN   \n",
            "\n",
            "      2017  2018  2019  2020  2021  2022  \n",
            "3276   0.0   0.0   0.0   0.0   0.0   0.0  \n",
            "3277   NaN   NaN   NaN   NaN   NaN   NaN  \n",
            "3278   NaN   NaN   NaN   NaN   NaN   NaN  \n",
            "3279   NaN   NaN   NaN   NaN   NaN   NaN  \n",
            "3280   NaN   NaN   NaN   NaN   NaN   NaN  \n",
            "3281   NaN   NaN   NaN   NaN   NaN   NaN  \n",
            "3282   NaN   NaN   NaN   NaN   NaN   NaN  \n",
            "3283   NaN   NaN   NaN   NaN   NaN   NaN  \n",
            "3284   NaN   NaN   NaN   NaN   NaN   NaN  \n",
            "3285   NaN   NaN   NaN   NaN   NaN   NaN  \n"
          ]
        }
      ],
      "source": [
        "# Filter the data for Afghanistan\n",
        "tuvalu_data = df[df['Reporting Economy'] == 'Tuvalu']\n",
        "\n",
        "# Print the data for Afghanistan\n",
        "print(tuvalu_data)"
      ]
    },
    {
      "cell_type": "code",
      "execution_count": 13,
      "metadata": {
        "id": "ZGJfMvfrCcQZ"
      },
      "outputs": [],
      "source": [
        "### Select only numeric columns for imputation\n",
        "numeric_data = df.select_dtypes(include=['number'])\n"
      ]
    },
    {
      "cell_type": "code",
      "execution_count": 17,
      "metadata": {
        "colab": {
          "base_uri": "https://localhost:8080/"
        },
        "id": "Wr8U8CaWhEIm",
        "outputId": "fb4885a8-725f-41f3-e066-5a08e648551a"
      },
      "outputs": [
        {
          "name": "stdout",
          "output_type": "stream",
          "text": [
            "            2005        2006        2007        2008        2009        2010  \\\n",
            "0     10510291.0  12131279.0  14031816.0  16168718.0  12564776.0  15301659.0   \n",
            "1       847715.0    942450.0   1131691.0   1342823.0   1177136.0   1354429.0   \n",
            "2       680936.0    753836.0    915653.0   1114698.0    998004.0   1115790.0   \n",
            "3      1810185.0   2319402.0   2674500.0   3554158.0   2299789.0   3074398.0   \n",
            "4      1457315.0   1801129.0   2047440.0   2884170.0   1838528.0   2395065.0   \n",
            "...          ...         ...         ...         ...         ...         ...   \n",
            "3520         0.0         0.0         0.0         1.0         7.0         0.0   \n",
            "3521         8.0       165.0        84.0        90.0        16.0        17.0   \n",
            "3522         6.0        16.0        28.0        77.0        10.0         8.0   \n",
            "3523        14.0        23.0        67.0        74.0        17.0        18.0   \n",
            "3524         7.0        17.0        18.0        47.0        16.0         7.0   \n",
            "\n",
            "            2011        2012        2013        2014        2015        2016  \\\n",
            "0     18337603.0  18508981.0  18958769.0  18999593.0  16554643.0  16036335.0   \n",
            "1      1649389.0   1655099.0   1731531.0   1746687.0   1565686.0   1585693.0   \n",
            "2      1350316.0   1369778.0   1445339.0   1480252.0   1332886.0   1357202.0   \n",
            "3      4122493.0   4164125.0   4051300.0   3720251.0   2380017.0   2033684.0   \n",
            "4      3268505.0   3399965.0   3309479.0   3026072.0   1808811.0   1492255.0   \n",
            "...          ...         ...         ...         ...         ...         ...   \n",
            "3520         0.0         0.0         0.0         0.0         1.0         0.0   \n",
            "3521        15.0        26.0        28.0        18.0        12.0        13.0   \n",
            "3522         9.0         9.0        11.0        10.0         5.0         4.0   \n",
            "3523        17.0        20.0        24.0        16.0        16.0        11.0   \n",
            "3524         5.0         4.0         4.0         4.0         8.0         9.0   \n",
            "\n",
            "            2017        2018        2019        2020        2021        2022  \n",
            "0     17741325.0  19550037.0  19017108.0  17653275.0  22365766.0  24925766.0  \n",
            "1      1731381.0   1810271.0   1788200.0   1809475.0   2148665.0   2325521.0  \n",
            "2      1473948.0   1533561.0   1533159.0   1573538.0   1836335.0   2007666.0  \n",
            "3      2611396.0   3264056.0   3102597.0   2326889.0   3670710.0   4950975.0  \n",
            "4      1948478.0   2528513.0   2370333.0   1571511.0   2555970.0   3865877.0  \n",
            "...          ...         ...         ...         ...         ...         ...  \n",
            "3520         0.0         0.0         0.0         0.0         0.0         NaN  \n",
            "3521        14.0        11.0        27.0        11.0         7.0         NaN  \n",
            "3522         6.0         3.0         4.0         3.0         3.0         NaN  \n",
            "3523         7.0         9.0         7.0         6.0        10.0         NaN  \n",
            "3524        11.0        16.0        13.0        10.0        11.0         NaN  \n",
            "\n",
            "[3525 rows x 18 columns]\n"
          ]
        }
      ],
      "source": [
        "print(numeric_data)"
      ]
    },
    {
      "cell_type": "markdown",
      "metadata": {
        "id": "lekc0Web1jI5"
      },
      "source": [
        "since the data depends on the region(rows) as well as the time i'll use KNNimputer which uses a proximaty(distance) metric to find the missing value. choose the n neighbors useing a hyper pramater that should be tuned"
      ]
    },
    {
      "cell_type": "code",
      "execution_count": 18,
      "metadata": {
        "id": "LaAMO0b15Mxt"
      },
      "outputs": [],
      "source": [
        "imputer = KNNImputer(n_neighbors=5)\n"
      ]
    },
    {
      "cell_type": "code",
      "execution_count": 19,
      "metadata": {
        "colab": {
          "base_uri": "https://localhost:8080/"
        },
        "id": "mXQWTUZ5rbeF",
        "outputId": "39859c8e-4843-46e1-bddb-e59d5dc4e7b2"
      },
      "outputs": [
        {
          "name": "stdout",
          "output_type": "stream",
          "text": [
            "         2005        2006        2007        2008        2009        2010  \\\n",
            "0  10510291.0  12131279.0  14031816.0  16168718.0  12564776.0  15301659.0   \n",
            "1    847715.0    942450.0   1131691.0   1342823.0   1177136.0   1354429.0   \n",
            "2    680936.0    753836.0    915653.0   1114698.0    998004.0   1115790.0   \n",
            "3   1810185.0   2319402.0   2674500.0   3554158.0   2299789.0   3074398.0   \n",
            "4   1457315.0   1801129.0   2047440.0   2884170.0   1838528.0   2395065.0   \n",
            "\n",
            "         2011        2012        2013        2014        2015        2016  \\\n",
            "0  18337603.0  18508981.0  18958769.0  18999593.0  16554643.0  16036335.0   \n",
            "1   1649389.0   1655099.0   1731531.0   1746687.0   1565686.0   1585693.0   \n",
            "2   1350316.0   1369778.0   1445339.0   1480252.0   1332886.0   1357202.0   \n",
            "3   4122493.0   4164125.0   4051300.0   3720251.0   2380017.0   2033684.0   \n",
            "4   3268505.0   3399965.0   3309479.0   3026072.0   1808811.0   1492255.0   \n",
            "\n",
            "         2017        2018        2019        2020        2021        2022  \n",
            "0  17741325.0  19550037.0  19017108.0  17653275.0  22365766.0  24925766.0  \n",
            "1   1731381.0   1810271.0   1788200.0   1809475.0   2148665.0   2325521.0  \n",
            "2   1473948.0   1533561.0   1533159.0   1573538.0   1836335.0   2007666.0  \n",
            "3   2611396.0   3264056.0   3102597.0   2326889.0   3670710.0   4950975.0  \n",
            "4   1948478.0   2528513.0   2370333.0   1571511.0   2555970.0   3865877.0  \n"
          ]
        }
      ],
      "source": [
        "## data preprocessing\n",
        "imputed_data = imputer.fit_transform(numeric_data)\n",
        "imputed_df = pd.DataFrame(imputed_data, columns=numeric_data.columns)\n",
        "print(imputed_df.head())"
      ]
    },
    {
      "cell_type": "code",
      "execution_count": 20,
      "metadata": {
        "colab": {
          "base_uri": "https://localhost:8080/"
        },
        "id": "bPc3rpHesq8T",
        "outputId": "2b7d458f-45c7-4b58-a11f-b9029f725c3e"
      },
      "outputs": [
        {
          "name": "stdout",
          "output_type": "stream",
          "text": [
            "     2005   2006   2007   2008   2009   2010   2011   2012   2013   2014  \\\n",
            "18  384.0  416.0  454.0  540.0  403.0  388.0  376.0  429.0  515.0  570.0   \n",
            "19   62.8  106.0  191.0  311.0  251.0  197.0  196.0   76.0   70.0   83.0   \n",
            "20   59.8   93.6  151.2  284.0  221.0  156.0  147.0   75.0   70.0   83.0   \n",
            "21    0.0    0.0    0.0    0.0    1.0    1.0    1.0    0.6    0.4    0.0   \n",
            "22    8.6   11.4    7.4    0.0   11.8   13.6    7.8    7.6   15.2    5.8   \n",
            "23  126.0   58.4  110.4  187.0   73.0   76.0   53.0   73.0   73.0   84.0   \n",
            "24    3.2    1.0    0.0    0.2    0.0    0.0    0.0    0.0    0.2    0.2   \n",
            "25    0.6    0.6    0.4    0.2    0.2    0.4    0.0    0.0    0.2    0.0   \n",
            "26    3.2    1.0    0.0    0.2    0.0    0.0    0.0    0.0    0.2    0.2   \n",
            "27    0.8    2.6    1.2    4.8    0.2    2.2    7.6    1.6    3.4    2.4   \n",
            "28   11.6   12.0   11.4   34.0   15.0   10.2   17.6   18.0    7.0   63.8   \n",
            "29   12.0    0.2    0.2    0.2    2.0    1.0    6.6    0.0    2.6    0.2   \n",
            "30   11.6   12.0   11.4   34.0   15.0   10.2   17.6    6.0    7.0   54.8   \n",
            "31    0.0    0.2    0.0    0.0    0.0    0.4    0.4    0.0    0.2    0.2   \n",
            "32    0.2    0.2    0.2    0.6    0.2    0.6   12.0    1.4    1.6    2.4   \n",
            "33    0.6    1.0    1.2    1.0    1.2    0.6    1.0    1.2    1.0    1.4   \n",
            "34    7.4   11.8   70.6  150.0   68.0   70.0   49.0   73.0   73.0   84.0   \n",
            "35    0.6    0.2    0.6    1.2    0.4    0.2    7.6    0.0    3.2    0.0   \n",
            "\n",
            "     2015   2016   2017   2018   2019   2020    2021   2022  \n",
            "18  571.0  596.0  723.0  875.0  864.0  777.0  1035.0  992.0  \n",
            "19  361.0  437.0  637.0  725.0  730.0  694.0   732.0  650.0  \n",
            "20  277.0  339.0  495.0  579.0  548.0  529.0   545.0  418.0  \n",
            "21   26.0    7.0   51.0  100.0   89.0   51.0   158.0  304.0  \n",
            "22   20.0   42.2   44.0   89.0   70.0   27.0   100.0  247.0  \n",
            "23   91.0   39.0   34.0   34.0   44.0   25.0   143.0   37.0  \n",
            "24    0.0    0.8    0.0    0.0    0.0    0.0     0.0    0.0  \n",
            "25    0.0    0.4    1.0    0.0    1.0    1.0     2.0    1.0  \n",
            "26    0.0    0.8    0.0    0.0    0.0    0.0     0.0    0.0  \n",
            "27    0.4    0.0    0.0    4.0    1.0    5.0    77.0    5.0  \n",
            "28   17.6   14.2   14.4    0.0    0.0    2.0    59.0    1.0  \n",
            "29    0.0    0.0    0.2    0.0    0.0    0.0    55.0    0.0  \n",
            "30   17.6   14.4   14.4    0.0    0.0    1.0     2.0    0.0  \n",
            "31    0.0    0.0    0.0    0.0    0.0    0.0     2.0    0.0  \n",
            "32    2.2    2.0    2.8    2.0    1.0    2.0     5.0    1.0  \n",
            "33    1.8    1.4    0.8    2.0    1.0    0.0     1.0    1.0  \n",
            "34   90.0   39.0   25.0   23.0   30.0   10.0    14.0   17.0  \n",
            "35    0.0    0.0    0.0    0.0    0.0    0.0     1.0    1.0  \n"
          ]
        }
      ],
      "source": [
        "# Filter the data for Afghanistan\n",
        "afghanistan_data = imputed_df[df['Reporting Economy'] == 'Afghanistan']\n",
        "\n",
        "# Print the data for Afghanistan\n",
        "print(afghanistan_data)"
      ]
    },
    {
      "cell_type": "code",
      "execution_count": null,
      "metadata": {
        "colab": {
          "base_uri": "https://localhost:8080/"
        },
        "id": "hCzvlk1Y9Tto",
        "outputId": "cd92b0ce-7d85-4c84-d101-b9a17c1e3670"
      },
      "outputs": [],
      "source": [
        "# Filter the data for Afghanistan\n",
        "tuvalu_data = imputed_df[df['Reporting Economy'] == 'Tuvalu']\n",
        "\n",
        "# Print the data for Afghanistan\n",
        "print(tuvalu_data)"
      ]
    },
    {
      "cell_type": "code",
      "execution_count": 21,
      "metadata": {
        "colab": {
          "base_uri": "https://localhost:8080/"
        },
        "id": "nywlCXK6-t6R",
        "outputId": "5c74cd31-9eb0-4386-abf5-d411c3c69edf"
      },
      "outputs": [
        {
          "name": "stdout",
          "output_type": "stream",
          "text": [
            "            2005        2006        2007        2008        2009        2010  \\\n",
            "0     10510291.0  12131279.0  14031816.0  16168718.0  12564776.0  15301659.0   \n",
            "1       847715.0    942450.0   1131691.0   1342823.0   1177136.0   1354429.0   \n",
            "2       680936.0    753836.0    915653.0   1114698.0    998004.0   1115790.0   \n",
            "3      1810185.0   2319402.0   2674500.0   3554158.0   2299789.0   3074398.0   \n",
            "4      1457315.0   1801129.0   2047440.0   2884170.0   1838528.0   2395065.0   \n",
            "...          ...         ...         ...         ...         ...         ...   \n",
            "3520         0.0         0.0         0.0         1.0         7.0         0.0   \n",
            "3521         8.0       165.0        84.0        90.0        16.0        17.0   \n",
            "3522         6.0        16.0        28.0        77.0        10.0         8.0   \n",
            "3523        14.0        23.0        67.0        74.0        17.0        18.0   \n",
            "3524         7.0        17.0        18.0        47.0        16.0         7.0   \n",
            "\n",
            "            2011        2012        2013        2014        2015        2016  \\\n",
            "0     18337603.0  18508981.0  18958769.0  18999593.0  16554643.0  16036335.0   \n",
            "1      1649389.0   1655099.0   1731531.0   1746687.0   1565686.0   1585693.0   \n",
            "2      1350316.0   1369778.0   1445339.0   1480252.0   1332886.0   1357202.0   \n",
            "3      4122493.0   4164125.0   4051300.0   3720251.0   2380017.0   2033684.0   \n",
            "4      3268505.0   3399965.0   3309479.0   3026072.0   1808811.0   1492255.0   \n",
            "...          ...         ...         ...         ...         ...         ...   \n",
            "3520         0.0         0.0         0.0         0.0         1.0         0.0   \n",
            "3521        15.0        26.0        28.0        18.0        12.0        13.0   \n",
            "3522         9.0         9.0        11.0        10.0         5.0         4.0   \n",
            "3523        17.0        20.0        24.0        16.0        16.0        11.0   \n",
            "3524         5.0         4.0         4.0         4.0         8.0         9.0   \n",
            "\n",
            "            2017        2018        2019        2020        2021        2022  \n",
            "0     17741325.0  19550037.0  19017108.0  17653275.0  22365766.0  24925766.0  \n",
            "1      1731381.0   1810271.0   1788200.0   1809475.0   2148665.0   2325521.0  \n",
            "2      1473948.0   1533561.0   1533159.0   1573538.0   1836335.0   2007666.0  \n",
            "3      2611396.0   3264056.0   3102597.0   2326889.0   3670710.0   4950975.0  \n",
            "4      1948478.0   2528513.0   2370333.0   1571511.0   2555970.0   3865877.0  \n",
            "...          ...         ...         ...         ...         ...         ...  \n",
            "3520         0.0         0.0         0.0         0.0         0.0         0.0  \n",
            "3521        14.0        11.0        27.0        11.0         7.0         6.2  \n",
            "3522         6.0         3.0         4.0         3.0         3.0         4.4  \n",
            "3523         7.0         9.0         7.0         6.0        10.0         9.4  \n",
            "3524        11.0        16.0        13.0        10.0        11.0         9.2  \n",
            "\n",
            "[3525 rows x 18 columns]\n"
          ]
        }
      ],
      "source": [
        "print(imputed_df)"
      ]
    },
    {
      "cell_type": "code",
      "execution_count": 25,
      "metadata": {},
      "outputs": [
        {
          "data": {
            "text/html": [
              "<div>\n",
              "<style scoped>\n",
              "    .dataframe tbody tr th:only-of-type {\n",
              "        vertical-align: middle;\n",
              "    }\n",
              "\n",
              "    .dataframe tbody tr th {\n",
              "        vertical-align: top;\n",
              "    }\n",
              "\n",
              "    .dataframe thead th {\n",
              "        text-align: right;\n",
              "    }\n",
              "</style>\n",
              "<table border=\"1\" class=\"dataframe\">\n",
              "  <thead>\n",
              "    <tr style=\"text-align: right;\">\n",
              "      <th></th>\n",
              "      <th>Reporting Economy</th>\n",
              "      <th>Product/Sector</th>\n",
              "    </tr>\n",
              "  </thead>\n",
              "  <tbody>\n",
              "    <tr>\n",
              "      <th>0</th>\n",
              "      <td>World</td>\n",
              "      <td>SI3_AGG - TO - Total merchandise</td>\n",
              "    </tr>\n",
              "    <tr>\n",
              "      <th>1</th>\n",
              "      <td>World</td>\n",
              "      <td>SI3_AGG - AG - Agricultural products</td>\n",
              "    </tr>\n",
              "    <tr>\n",
              "      <th>2</th>\n",
              "      <td>World</td>\n",
              "      <td>SI3_AGG - AGFO - Food</td>\n",
              "    </tr>\n",
              "    <tr>\n",
              "      <th>3</th>\n",
              "      <td>World</td>\n",
              "      <td>SI3_AGG - MI - Fuels and mining products</td>\n",
              "    </tr>\n",
              "    <tr>\n",
              "      <th>4</th>\n",
              "      <td>World</td>\n",
              "      <td>SI3_AGG - MIFU - Fuels</td>\n",
              "    </tr>\n",
              "  </tbody>\n",
              "</table>\n",
              "</div>"
            ],
            "text/plain": [
              "  Reporting Economy                            Product/Sector\n",
              "0             World          SI3_AGG - TO - Total merchandise\n",
              "1             World      SI3_AGG - AG - Agricultural products\n",
              "2             World                     SI3_AGG - AGFO - Food\n",
              "3             World  SI3_AGG - MI - Fuels and mining products\n",
              "4             World                    SI3_AGG - MIFU - Fuels"
            ]
          },
          "execution_count": 25,
          "metadata": {},
          "output_type": "execute_result"
        }
      ],
      "source": [
        "X_data=df.iloc[:,:2]\n",
        "X_data.head()\n"
      ]
    },
    {
      "cell_type": "code",
      "execution_count": 28,
      "metadata": {},
      "outputs": [
        {
          "data": {
            "text/html": [
              "<div>\n",
              "<style scoped>\n",
              "    .dataframe tbody tr th:only-of-type {\n",
              "        vertical-align: middle;\n",
              "    }\n",
              "\n",
              "    .dataframe tbody tr th {\n",
              "        vertical-align: top;\n",
              "    }\n",
              "\n",
              "    .dataframe thead th {\n",
              "        text-align: right;\n",
              "    }\n",
              "</style>\n",
              "<table border=\"1\" class=\"dataframe\">\n",
              "  <thead>\n",
              "    <tr style=\"text-align: right;\">\n",
              "      <th></th>\n",
              "      <th>Reporting Economy</th>\n",
              "      <th>Product/Sector</th>\n",
              "      <th>2005</th>\n",
              "      <th>2006</th>\n",
              "      <th>2007</th>\n",
              "      <th>2008</th>\n",
              "      <th>2009</th>\n",
              "      <th>2010</th>\n",
              "      <th>2011</th>\n",
              "      <th>2012</th>\n",
              "      <th>2013</th>\n",
              "      <th>2014</th>\n",
              "      <th>2015</th>\n",
              "      <th>2016</th>\n",
              "      <th>2017</th>\n",
              "      <th>2018</th>\n",
              "      <th>2019</th>\n",
              "      <th>2020</th>\n",
              "      <th>2021</th>\n",
              "      <th>2022</th>\n",
              "    </tr>\n",
              "  </thead>\n",
              "  <tbody>\n",
              "    <tr>\n",
              "      <th>0</th>\n",
              "      <td>World</td>\n",
              "      <td>SI3_AGG - TO - Total merchandise</td>\n",
              "      <td>10510291.0</td>\n",
              "      <td>12131279.0</td>\n",
              "      <td>14031816.0</td>\n",
              "      <td>16168718.0</td>\n",
              "      <td>12564776.0</td>\n",
              "      <td>15301659.0</td>\n",
              "      <td>18337603.0</td>\n",
              "      <td>18508981.0</td>\n",
              "      <td>18958769.0</td>\n",
              "      <td>18999593.0</td>\n",
              "      <td>16554643.0</td>\n",
              "      <td>16036335.0</td>\n",
              "      <td>17741325.0</td>\n",
              "      <td>19550037.0</td>\n",
              "      <td>19017108.0</td>\n",
              "      <td>17653275.0</td>\n",
              "      <td>22365766.0</td>\n",
              "      <td>24925766.0</td>\n",
              "    </tr>\n",
              "    <tr>\n",
              "      <th>1</th>\n",
              "      <td>World</td>\n",
              "      <td>SI3_AGG - AG - Agricultural products</td>\n",
              "      <td>847715.0</td>\n",
              "      <td>942450.0</td>\n",
              "      <td>1131691.0</td>\n",
              "      <td>1342823.0</td>\n",
              "      <td>1177136.0</td>\n",
              "      <td>1354429.0</td>\n",
              "      <td>1649389.0</td>\n",
              "      <td>1655099.0</td>\n",
              "      <td>1731531.0</td>\n",
              "      <td>1746687.0</td>\n",
              "      <td>1565686.0</td>\n",
              "      <td>1585693.0</td>\n",
              "      <td>1731381.0</td>\n",
              "      <td>1810271.0</td>\n",
              "      <td>1788200.0</td>\n",
              "      <td>1809475.0</td>\n",
              "      <td>2148665.0</td>\n",
              "      <td>2325521.0</td>\n",
              "    </tr>\n",
              "    <tr>\n",
              "      <th>2</th>\n",
              "      <td>World</td>\n",
              "      <td>SI3_AGG - AGFO - Food</td>\n",
              "      <td>680936.0</td>\n",
              "      <td>753836.0</td>\n",
              "      <td>915653.0</td>\n",
              "      <td>1114698.0</td>\n",
              "      <td>998004.0</td>\n",
              "      <td>1115790.0</td>\n",
              "      <td>1350316.0</td>\n",
              "      <td>1369778.0</td>\n",
              "      <td>1445339.0</td>\n",
              "      <td>1480252.0</td>\n",
              "      <td>1332886.0</td>\n",
              "      <td>1357202.0</td>\n",
              "      <td>1473948.0</td>\n",
              "      <td>1533561.0</td>\n",
              "      <td>1533159.0</td>\n",
              "      <td>1573538.0</td>\n",
              "      <td>1836335.0</td>\n",
              "      <td>2007666.0</td>\n",
              "    </tr>\n",
              "    <tr>\n",
              "      <th>3</th>\n",
              "      <td>World</td>\n",
              "      <td>SI3_AGG - MI - Fuels and mining products</td>\n",
              "      <td>1810185.0</td>\n",
              "      <td>2319402.0</td>\n",
              "      <td>2674500.0</td>\n",
              "      <td>3554158.0</td>\n",
              "      <td>2299789.0</td>\n",
              "      <td>3074398.0</td>\n",
              "      <td>4122493.0</td>\n",
              "      <td>4164125.0</td>\n",
              "      <td>4051300.0</td>\n",
              "      <td>3720251.0</td>\n",
              "      <td>2380017.0</td>\n",
              "      <td>2033684.0</td>\n",
              "      <td>2611396.0</td>\n",
              "      <td>3264056.0</td>\n",
              "      <td>3102597.0</td>\n",
              "      <td>2326889.0</td>\n",
              "      <td>3670710.0</td>\n",
              "      <td>4950975.0</td>\n",
              "    </tr>\n",
              "    <tr>\n",
              "      <th>4</th>\n",
              "      <td>World</td>\n",
              "      <td>SI3_AGG - MIFU - Fuels</td>\n",
              "      <td>1457315.0</td>\n",
              "      <td>1801129.0</td>\n",
              "      <td>2047440.0</td>\n",
              "      <td>2884170.0</td>\n",
              "      <td>1838528.0</td>\n",
              "      <td>2395065.0</td>\n",
              "      <td>3268505.0</td>\n",
              "      <td>3399965.0</td>\n",
              "      <td>3309479.0</td>\n",
              "      <td>3026072.0</td>\n",
              "      <td>1808811.0</td>\n",
              "      <td>1492255.0</td>\n",
              "      <td>1948478.0</td>\n",
              "      <td>2528513.0</td>\n",
              "      <td>2370333.0</td>\n",
              "      <td>1571511.0</td>\n",
              "      <td>2555970.0</td>\n",
              "      <td>3865877.0</td>\n",
              "    </tr>\n",
              "  </tbody>\n",
              "</table>\n",
              "</div>"
            ],
            "text/plain": [
              "  Reporting Economy                            Product/Sector        2005  \\\n",
              "0             World          SI3_AGG - TO - Total merchandise  10510291.0   \n",
              "1             World      SI3_AGG - AG - Agricultural products    847715.0   \n",
              "2             World                     SI3_AGG - AGFO - Food    680936.0   \n",
              "3             World  SI3_AGG - MI - Fuels and mining products   1810185.0   \n",
              "4             World                    SI3_AGG - MIFU - Fuels   1457315.0   \n",
              "\n",
              "         2006        2007        2008        2009        2010        2011  \\\n",
              "0  12131279.0  14031816.0  16168718.0  12564776.0  15301659.0  18337603.0   \n",
              "1    942450.0   1131691.0   1342823.0   1177136.0   1354429.0   1649389.0   \n",
              "2    753836.0    915653.0   1114698.0    998004.0   1115790.0   1350316.0   \n",
              "3   2319402.0   2674500.0   3554158.0   2299789.0   3074398.0   4122493.0   \n",
              "4   1801129.0   2047440.0   2884170.0   1838528.0   2395065.0   3268505.0   \n",
              "\n",
              "         2012        2013        2014        2015        2016        2017  \\\n",
              "0  18508981.0  18958769.0  18999593.0  16554643.0  16036335.0  17741325.0   \n",
              "1   1655099.0   1731531.0   1746687.0   1565686.0   1585693.0   1731381.0   \n",
              "2   1369778.0   1445339.0   1480252.0   1332886.0   1357202.0   1473948.0   \n",
              "3   4164125.0   4051300.0   3720251.0   2380017.0   2033684.0   2611396.0   \n",
              "4   3399965.0   3309479.0   3026072.0   1808811.0   1492255.0   1948478.0   \n",
              "\n",
              "         2018        2019        2020        2021        2022  \n",
              "0  19550037.0  19017108.0  17653275.0  22365766.0  24925766.0  \n",
              "1   1810271.0   1788200.0   1809475.0   2148665.0   2325521.0  \n",
              "2   1533561.0   1533159.0   1573538.0   1836335.0   2007666.0  \n",
              "3   3264056.0   3102597.0   2326889.0   3670710.0   4950975.0  \n",
              "4   2528513.0   2370333.0   1571511.0   2555970.0   3865877.0  "
            ]
          },
          "execution_count": 28,
          "metadata": {},
          "output_type": "execute_result"
        }
      ],
      "source": [
        "final_imputed_df = pd.concat([X_data, imputed_df], axis=1)\n",
        "final_imputed_df.head()"
      ]
    },
    {
      "cell_type": "code",
      "execution_count": 29,
      "metadata": {},
      "outputs": [],
      "source": [
        "##output the data \n",
        "final_imputed_df.to_excel('final_imputed_df.xlsx', index=False)"
      ]
    },
    {
      "cell_type": "markdown",
      "metadata": {
        "id": "4QOiLqDzBzrk"
      },
      "source": [
        "After filling in the NaN data segregate the independent(reporting economy, product/sector) and dependent veriables (year values). to be able to use the numbers for training."
      ]
    },
    {
      "cell_type": "code",
      "execution_count": null,
      "metadata": {
        "id": "GU_uKYC693md"
      },
      "outputs": [],
      "source": [
        "##extracting the vlaues of the independent variable, all the rows and the first two columns\n",
        "X = df.iloc[:,:1].values\n",
        "##extracting the values of the dependent variables, only the the columns after the first two\n",
        "Y = df.iloc[:, 2:].values"
      ]
    }
  ],
  "metadata": {
    "colab": {
      "provenance": []
    },
    "kernelspec": {
      "display_name": "Python 3",
      "name": "python3"
    },
    "language_info": {
      "codemirror_mode": {
        "name": "ipython",
        "version": 3
      },
      "file_extension": ".py",
      "mimetype": "text/x-python",
      "name": "python",
      "nbconvert_exporter": "python",
      "pygments_lexer": "ipython3",
      "version": "3.11.9"
    }
  },
  "nbformat": 4,
  "nbformat_minor": 0
}
